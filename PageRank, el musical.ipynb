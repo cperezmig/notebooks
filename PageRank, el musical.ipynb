{
 "cells": [
  {
   "cell_type": "markdown",
   "metadata": {},
   "source": [
    "Jugando con el algoritmo de PageRank\n",
    "================================"
   ]
  },
  {
   "cell_type": "markdown",
   "metadata": {},
   "source": [
    "Primero definimos una función en python con el código del pagerank. El grafo se tiene que especificar como una lista de tuplas, cada tupla representa a un nodo y sus enlaces."
   ]
  },
  {
   "cell_type": "code",
   "execution_count": 1,
   "metadata": {},
   "outputs": [],
   "source": [
    "import numpy as np\n",
    "\n",
    "def pageRank(madj, n, N=100):\n",
    "    ranks = np.empty(n)\n",
    "    ranks.fill(1.0/float(n))\n",
    "    for i in range(N):\n",
    "        new_ranks = np.zeros(n)\n",
    "        for (s, ol) in madj:\n",
    "            m = float(len(ol))\n",
    "            mranks = np.zeros(n)\n",
    "            for dest in ol:\n",
    "                mranks[dest] += ranks[s] / m * 0.85\n",
    "            print(str(s)+\" emite \"+str(mranks))\n",
    "            new_ranks += mranks\n",
    "        ranks = new_ranks + 0.15 / float(n)\n",
    "        print(\"Resultado de iteracion \"+str(i)+\" al sumar todas las contribuciones: \"+str(ranks))\n",
    "        print(\"\")\n",
    "    return ranks"
   ]
  },
  {
   "cell_type": "markdown",
   "metadata": {},
   "source": [
    "Primero probamos con todos los nodos emitiendo el mismo número de enlaces y ejecutamos 3 iteraciones del algoritmo."
   ]
  },
  {
   "cell_type": "code",
   "execution_count": 2,
   "metadata": {},
   "outputs": [
    {
     "name": "stdout",
     "output_type": "stream",
     "text": [
      "0 emite [0.         0.07083333 0.07083333 0.07083333]\n",
      "1 emite [0.07083333 0.         0.07083333 0.07083333]\n",
      "2 emite [0.07083333 0.07083333 0.         0.07083333]\n",
      "3 emite [0.07083333 0.07083333 0.07083333 0.        ]\n",
      "Resultado de iteracion 0 al sumar todas las contribuciones: [0.25 0.25 0.25 0.25]\n",
      "\n",
      "0 emite [0.         0.07083333 0.07083333 0.07083333]\n",
      "1 emite [0.07083333 0.         0.07083333 0.07083333]\n",
      "2 emite [0.07083333 0.07083333 0.         0.07083333]\n",
      "3 emite [0.07083333 0.07083333 0.07083333 0.        ]\n",
      "Resultado de iteracion 1 al sumar todas las contribuciones: [0.25 0.25 0.25 0.25]\n",
      "\n",
      "0 emite [0.         0.07083333 0.07083333 0.07083333]\n",
      "1 emite [0.07083333 0.         0.07083333 0.07083333]\n",
      "2 emite [0.07083333 0.07083333 0.         0.07083333]\n",
      "3 emite [0.07083333 0.07083333 0.07083333 0.        ]\n",
      "Resultado de iteracion 2 al sumar todas las contribuciones: [0.25 0.25 0.25 0.25]\n",
      "\n",
      "Resultado: [0.25 0.25 0.25 0.25]\n",
      "Despues de normalizar: [1. 1. 1. 1.]\n"
     ]
    }
   ],
   "source": [
    "grafo = [(0, [1, 2, 3]), \n",
    "           (1, [0, 2, 3]),\n",
    "           (2, [0, 1, 3]),\n",
    "           (3, [0, 1, 2])]\n",
    "\n",
    "n = len(grafo)\n",
    "ite = 3\n",
    "\n",
    "ranks = pageRank(grafo, n, ite)\n",
    "print(\"Resultado: \"+str(ranks))\n",
    "ranks = ranks/max(ranks)\n",
    "print(\"Despues de normalizar: \"+str(ranks))"
   ]
  },
  {
   "cell_type": "markdown",
   "metadata": {},
   "source": [
    "Como se puede ver, el algoritmo empieza con el mismo valor para todos los nodos, 1/n. Aunque luego este valor al emitirse se multiplica por 0.85, al tener todos los nodos el mismo número de enlaces y recibir la misma cantidad de enlaces, al final de la iteración, el PR que reciben de cada nodo se suma. Al final de la iteración  todos los nodos tienen el mismo valor."
   ]
  },
  {
   "cell_type": "markdown",
   "metadata": {},
   "source": [
    "En cambio, con que uno sólo de los nodos tenga 1 enlace más, se altera totalmente la distribución de PR. Como se puede ver, 0 emite menos PR por enlace; además, se emite PR a si mismo. Con esto, consigue que el resto de nodos reciban menos PR que él."
   ]
  },
  {
   "cell_type": "code",
   "execution_count": 3,
   "metadata": {},
   "outputs": [
    {
     "name": "stdout",
     "output_type": "stream",
     "text": [
      "0 emite [0.053125 0.053125 0.053125 0.053125]\n",
      "1 emite [0.07083333 0.         0.07083333 0.07083333]\n",
      "2 emite [0.07083333 0.07083333 0.         0.07083333]\n",
      "3 emite [0.07083333 0.07083333 0.07083333 0.        ]\n",
      "Resultado de iteracion 0 al sumar todas las contribuciones: [0.303125   0.23229167 0.23229167 0.23229167]\n",
      "\n",
      "0 emite [0.06441406 0.06441406 0.06441406 0.06441406]\n",
      "1 emite [0.06581597 0.         0.06581597 0.06581597]\n",
      "2 emite [0.06581597 0.06581597 0.         0.06581597]\n",
      "3 emite [0.06581597 0.06581597 0.06581597 0.        ]\n",
      "Resultado de iteracion 1 al sumar todas las contribuciones: [0.29936198 0.23354601 0.23354601 0.23354601]\n",
      "\n",
      "0 emite [0.06361442 0.06361442 0.06361442 0.06361442]\n",
      "1 emite [0.06617137 0.         0.06617137 0.06617137]\n",
      "2 emite [0.06617137 0.06617137 0.         0.06617137]\n",
      "3 emite [0.06617137 0.06617137 0.06617137 0.        ]\n",
      "Resultado de iteracion 2 al sumar todas las contribuciones: [0.29962853 0.23345716 0.23345716 0.23345716]\n",
      "\n",
      "Resultado: [0.29962853 0.23345716 0.23345716 0.23345716]\n",
      "Despues de normalizar: [1.         0.77915531 0.77915531 0.77915531]\n"
     ]
    }
   ],
   "source": [
    "grafo = [(0, [0, 1, 2, 3]), \n",
    "           (1, [0, 2, 3]),\n",
    "           (2, [0, 1, 3]),\n",
    "           (3, [0, 1, 2])]\n",
    "\n",
    "n = len(grafo)\n",
    "ite = 3\n",
    "\n",
    "ranks = pageRank(grafo, n, ite)\n",
    "print(\"Resultado: \"+str(ranks))\n",
    "ranks = ranks/max(ranks)\n",
    "print(\"Despues de normalizar: \"+str(ranks))"
   ]
  },
  {
   "cell_type": "markdown",
   "metadata": {},
   "source": [
    "En el caso anterior se ha alterado la distribución de PR usando un autoenlace, sin embargo pasa lo mismo si el enlace es a otra página"
   ]
  },
  {
   "cell_type": "code",
   "execution_count": 4,
   "metadata": {},
   "outputs": [
    {
     "name": "stdout",
     "output_type": "stream",
     "text": [
      "0 emite [0.       0.10625  0.053125 0.053125]\n",
      "1 emite [0.07083333 0.         0.07083333 0.07083333]\n",
      "2 emite [0.07083333 0.07083333 0.         0.07083333]\n",
      "3 emite [0.07083333 0.07083333 0.07083333 0.        ]\n",
      "Resultado de iteracion 0 al sumar todas las contribuciones: [0.25       0.28541667 0.23229167 0.23229167]\n",
      "\n",
      "0 emite [0.       0.10625  0.053125 0.053125]\n",
      "1 emite [0.08086806 0.         0.08086806 0.08086806]\n",
      "2 emite [0.06581597 0.06581597 0.         0.06581597]\n",
      "3 emite [0.06581597 0.06581597 0.06581597 0.        ]\n",
      "Resultado de iteracion 1 al sumar todas las contribuciones: [0.25       0.27538194 0.23730903 0.23730903]\n",
      "\n",
      "0 emite [0.       0.10625  0.053125 0.053125]\n",
      "1 emite [0.07802488 0.         0.07802488 0.07802488]\n",
      "2 emite [0.06723756 0.06723756 0.         0.06723756]\n",
      "3 emite [0.06723756 0.06723756 0.06723756 0.        ]\n",
      "Resultado de iteracion 2 al sumar todas las contribuciones: [0.25       0.27822512 0.23588744 0.23588744]\n",
      "\n",
      "Resultado: [0.25       0.27822512 0.23588744 0.23588744]\n",
      "Despues de normalizar: [0.89855296 1.         0.84782943 0.84782943]\n"
     ]
    }
   ],
   "source": [
    "grafo = [(0, [1, 1, 2, 3]), \n",
    "           (1, [0, 2, 3]),\n",
    "           (2, [0, 1, 3]),\n",
    "           (3, [0, 1, 2])]\n",
    "\n",
    "n = len(grafo)\n",
    "ite = 3\n",
    "\n",
    "ranks = pageRank(grafo, n, ite)\n",
    "print(\"Resultado: \"+str(ranks))\n",
    "ranks = ranks/max(ranks)\n",
    "print(\"Despues de normalizar: \"+str(ranks))"
   ]
  },
  {
   "cell_type": "markdown",
   "metadata": {},
   "source": [
    "Algunas conclusiones\n",
    "--------------------"
   ]
  },
  {
   "cell_type": "markdown",
   "metadata": {},
   "source": [
    "1. Como se puede ver, un simple enlace puede alterar totalmente la distribución de PR.\n",
    "2. Esto se ve aumentado por el hecho de ser un grafo pequeño. En páginas mucho mayores este efecto se diluye.\n",
    "3. El famoso dumping factor no afecta tanto como la cantidad de enlaces que se emiten y reciben. La posición de una URL con respecto a los niveles de profundidad no resulta tan crucial ya que todos los nodos se inicializan a 1/n (donde n es el número de urls).\n",
    "4. El dumping factor no es más que un truco añadido al algoritmo por Google para asegurarse de que el algoritmo converge, evitando así casos como nodos sin ningún enlace saliente. De hecho, el algoritmo de PR no es más que un algoritmo para calcular los **eigenvectores** del grafo. Se sabe que un grafo tiene eigenvector si y sólo si el grafo está fuertemente conectado; es decir, se pueden llegar a cualquier nodo del grafo desde cualquier otro nodo del mismo. Para conseguir esto, incluyeron el dumping factor, que no es más que un \"enlace virtual\" a cualquier otra URL del sitio."
   ]
  }
 ],
 "metadata": {
  "kernelspec": {
   "display_name": "Python 3",
   "language": "python",
   "name": "python3"
  },
  "language_info": {
   "codemirror_mode": {
    "name": "ipython",
    "version": 3
   },
   "file_extension": ".py",
   "mimetype": "text/x-python",
   "name": "python",
   "nbconvert_exporter": "python",
   "pygments_lexer": "ipython3",
   "version": "3.6.7"
  }
 },
 "nbformat": 4,
 "nbformat_minor": 2
}
